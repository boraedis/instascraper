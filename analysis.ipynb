{
 "metadata": {
  "language_info": {
   "codemirror_mode": {
    "name": "ipython",
    "version": 3
   },
   "file_extension": ".py",
   "mimetype": "text/x-python",
   "name": "python",
   "nbconvert_exporter": "python",
   "pygments_lexer": "ipython3",
   "version": "3.7.4"
  },
  "orig_nbformat": 2,
  "kernelspec": {
   "name": "python37464bitbaseconda501dbd2b71da42129e9faac54f662879",
   "display_name": "Python 3.7.4 64-bit ('base': conda)"
  },
  "metadata": {
   "interpreter": {
    "hash": "c5a8771859ef0ed7178096ef819d4e814e003be2e846f9b9be7e146d3e021550"
   }
  }
 },
 "nbformat": 4,
 "nbformat_minor": 2,
 "cells": [
  {
   "cell_type": "code",
   "execution_count": 165,
   "metadata": {},
   "outputs": [],
   "source": [
    "import pandas as pd\n",
    "import re\n",
    "\n",
    "# pd.set_option('display.max_rows', None)\n",
    "# pd.set_option('display.max_columns', None)\n"
   ]
  },
  {
   "cell_type": "code",
   "execution_count": 166,
   "metadata": {},
   "outputs": [],
   "source": [
    "df = pd.read_csv(\"posts.csv\",delimiter=\";\",header=None, names=[\"date\",\"post\"], index_col=0)"
   ]
  },
  {
   "cell_type": "code",
   "execution_count": 167,
   "metadata": {},
   "outputs": [
    {
     "output_type": "execute_result",
     "data": {
      "text/plain": [
       "                                                                       post\n",
       "date                                                                       \n",
       "2021-06-10T18:08:25.000Z  Hi everyone! Ik I'm late but I just committed ...\n",
       "2021-06-10T18:06:44.000Z  Hi! My name is Sofia and I'm from Colombia. I'...\n",
       "2021-06-10T18:05:03.000Z  Hey yall! im andrew and im from memphis tn. im...\n",
       "2021-06-10T18:03:51.000Z  Hi everyone! I'm Ani and I'm from Garnet Valle...\n",
       "2021-06-10T17:24:15.000Z  Hey everyone! I'm Alex and i'm from Smyrna, wh...\n",
       "...                                                                     ...\n",
       "2020-12-21T22:55:08.000Z  Hello everyone! My name is Claudia Vitale, and...\n",
       "2020-12-21T21:35:08.000Z  Hey guys:))) My name is Salma and I'm from Gwi...\n",
       "2020-12-20T17:48:02.000Z  Hey everyone!  My name is Jen O'Brien and I'm ...\n",
       "2020-12-19T21:22:54.000Z  hey guys! i'm mackenzie and i'm from marietta ...\n",
       "2020-12-19T17:45:51.000Z  hiiii my name is Felipe! I'm almost positive I...\n",
       "\n",
       "[982 rows x 1 columns]"
      ],
      "text/html": "<div>\n<style scoped>\n    .dataframe tbody tr th:only-of-type {\n        vertical-align: middle;\n    }\n\n    .dataframe tbody tr th {\n        vertical-align: top;\n    }\n\n    .dataframe thead th {\n        text-align: right;\n    }\n</style>\n<table border=\"1\" class=\"dataframe\">\n  <thead>\n    <tr style=\"text-align: right;\">\n      <th></th>\n      <th>post</th>\n    </tr>\n    <tr>\n      <th>date</th>\n      <th></th>\n    </tr>\n  </thead>\n  <tbody>\n    <tr>\n      <th>2021-06-10T18:08:25.000Z</th>\n      <td>Hi everyone! Ik I'm late but I just committed ...</td>\n    </tr>\n    <tr>\n      <th>2021-06-10T18:06:44.000Z</th>\n      <td>Hi! My name is Sofia and I'm from Colombia. I'...</td>\n    </tr>\n    <tr>\n      <th>2021-06-10T18:05:03.000Z</th>\n      <td>Hey yall! im andrew and im from memphis tn. im...</td>\n    </tr>\n    <tr>\n      <th>2021-06-10T18:03:51.000Z</th>\n      <td>Hi everyone! I'm Ani and I'm from Garnet Valle...</td>\n    </tr>\n    <tr>\n      <th>2021-06-10T17:24:15.000Z</th>\n      <td>Hey everyone! I'm Alex and i'm from Smyrna, wh...</td>\n    </tr>\n    <tr>\n      <th>...</th>\n      <td>...</td>\n    </tr>\n    <tr>\n      <th>2020-12-21T22:55:08.000Z</th>\n      <td>Hello everyone! My name is Claudia Vitale, and...</td>\n    </tr>\n    <tr>\n      <th>2020-12-21T21:35:08.000Z</th>\n      <td>Hey guys:))) My name is Salma and I'm from Gwi...</td>\n    </tr>\n    <tr>\n      <th>2020-12-20T17:48:02.000Z</th>\n      <td>Hey everyone!  My name is Jen O'Brien and I'm ...</td>\n    </tr>\n    <tr>\n      <th>2020-12-19T21:22:54.000Z</th>\n      <td>hey guys! i'm mackenzie and i'm from marietta ...</td>\n    </tr>\n    <tr>\n      <th>2020-12-19T17:45:51.000Z</th>\n      <td>hiiii my name is Felipe! I'm almost positive I...</td>\n    </tr>\n  </tbody>\n</table>\n<p>982 rows × 1 columns</p>\n</div>"
     },
     "metadata": {},
     "execution_count": 167
    }
   ],
   "source": [
    "\n",
    "df = df[[\"post\"]]\n",
    "df[\"post\"] = df[\"post\"].str.strip(\"gt.classof2025\")\n",
    "df[\"post\"] = df[\"post\"].str.replace(\"’\",\"'\")\n",
    "df\n"
   ]
  },
  {
   "cell_type": "code",
   "execution_count": 168,
   "metadata": {},
   "outputs": [],
   "source": [
    "def get_name(post):\n",
    "    name = re.search(r\"[mM]y [Nn]ame'?s ([A-z]* ?[A-z]*)\",post)\n",
    "    if name:\n",
    "        return name.group(1).replace(\" and\", \"\").replace(\" from\", \"\")\n",
    "    name = re.search(r\"[mM]y [Nn]ame is ([A-z]* ?[A-z]*)\",post)\n",
    "    if name:\n",
    "        return name.group(1).replace(\" and\", \"\").replace(\" from\", \"\")\n",
    "    name = re.search(r\"[Ii][' a]*m ([A-z]* ?[A-z]*)[ ,\\.!]\", post)\n",
    "    if name:\n",
    "        return name.group(1).replace(\" and\",\"\").replace(\" from\", \"\")\n",
    "\n",
    "def get_hometown(post, state=False):\n",
    "    hometown = re.search(r\"from ([A-z]*[ ,]*(([A-z]{2}[ ,.])|[A-z ]*))\",post)\n",
    "    if hometown:\n",
    "        if state:\n",
    "            return hometown.group(3)\n",
    "        splitters = [\" and\",' but',' I ',' i ']\n",
    "        hometown = hometown.group(1).strip(\" ,\")\n",
    "        for splitter in splitters:\n",
    "            hometown = hometown.split(splitter)[0]\n",
    "        return hometown\n",
    "    hometown = re.search(r\"in ([A-z]*[ ,]*(([A-z]{2}[ ,.])|[A-z ]*))\",post)\n",
    "    if hometown:\n",
    "        if state:\n",
    "            return hometown.group(3)\n",
    "        splitters = [\" and\",' but',' I ',' i ']\n",
    "        hometown = hometown.group(1).strip(\" ,\")\n",
    "        for splitter in splitters:\n",
    "            hometown = hometown.split(splitter)[0]\n",
    "        return hometown\n",
    "\n",
    "def get_state(hometown):\n",
    "    if not hometown:\n",
    "        return None\n",
    "    if re.search(r\"[Aa]tlanta\", hometown):\n",
    "        return \"GA\"\n",
    "    if re.search(r\"[Gg]eorgia\", hometown):\n",
    "        return \"GA\"\n",
    "    st = re.search(r\"[, ]([A-z]{2})\\.?$\", hometown)\n",
    "    if st:\n",
    "        return st.group(1).upper()\n",
    "    state = re.search(r\" [A-Z]{2} \", hometown)\n",
    "\n",
    "def get_major(post):\n",
    "    major = re.search(r\"major(?:ing)? in ([A-z]* [A-z]*)[ ,.]\", post)\n",
    "    if major:\n",
    "        return major.group(1).strip(\" and\")\n",
    "    major = re.search(r\"([A-z]* [A-z]*) major\", post)\n",
    "    if major:\n",
    "        return major.group(1).strip(\" and\")\n",
    "\n",
    "def get_insta(post):\n",
    "    insta = re.search(r\"i?n?s?t?a?g?r?a?m?: @?([0-z.]*)\",post, re.IGNORECASE)\n",
    "    if insta:\n",
    "        return insta.group(1).replace(\"sc:\",\"\").replace(\"Snap:\",\"\").replace(\"snap:\",\"\")\n",
    "\n",
    "df[\"name\"] = df[\"post\"].apply(get_name)\n",
    "df[\"hometown\"] = df[\"post\"].apply(get_hometown)\n",
    "df[\"state\"] = df[\"hometown\"].apply(get_state)\n",
    "df[\"major\"] = df[\"post\"].apply(get_major)\n",
    "df['insta'] = df['post'].apply(get_insta)\n",
    "df[\"gender\"] = [\"\" for i in range(len(df))]"
   ]
  },
  {
   "cell_type": "code",
   "execution_count": 169,
   "metadata": {},
   "outputs": [],
   "source": [
    "\n",
    "boys = open('boynames.txt', 'r')\n",
    "boys = boys.read().split('\\n')\n",
    "\n",
    "girls = open('girlnames.txt', 'r')\n",
    "girls = girls.read().split('\\n')\n",
    "\n",
    "def add_boy(name):\n",
    "    f = open('boynames.txt','a')\n",
    "    f.write(f\"\\n{name}\")\n",
    "    f.close()\n",
    "\n",
    "def add_girl(name):\n",
    "    f = open('girlnames.txt','a')\n",
    "    f.write(f\"\\n{name}\")\n",
    "    f.close()"
   ]
  },
  {
   "cell_type": "code",
   "execution_count": 170,
   "metadata": {},
   "outputs": [],
   "source": [
    "for i in range(len(df)):\n",
    "    if not df[\"name\"].iloc[i]:\n",
    "        continue\n",
    "    name = df[\"name\"].iloc[i].split(' ')[0]\n",
    "    name = name[0].upper() + name[1:].lower()\n",
    "    if name in boys:\n",
    "        df[\"gender\"].iloc[i] = \"B\"\n",
    "    elif name in girls:\n",
    "        df[\"gender\"].iloc[i] = \"G\"\n",
    "    else:\n",
    "        df[\"gender\"].iloc[i] = \"BLANK\""
   ]
  },
  {
   "cell_type": "code",
   "execution_count": 171,
   "metadata": {},
   "outputs": [],
   "source": [
    "\n",
    "\n",
    "\n",
    "for i in range(len(df)):\n",
    "    if not df[\"name\"].iloc[i]:\n",
    "        continue\n",
    "    name = df[\"name\"].iloc[i].split(' ')[0]\n",
    "    name = name[0].upper() + name[1:].lower()\n",
    "    if name in boys:\n",
    "        df[\"gender\"].iloc[i] = \"B\"\n",
    "        continue\n",
    "    elif name in girls:\n",
    "        df[\"gender\"].iloc[i] = \"G\"\n",
    "        continue\n",
    "    inp = input(f\"{name}?(B/b/q/g/G) \")\n",
    "    if not inp:\n",
    "        continue\n",
    "    inp = inp[0]\n",
    "    if inp == \"B\":\n",
    "        df[\"gender\"].iloc[i] = \"B\"\n",
    "        add_boy(name)\n",
    "        boys.append(name)\n",
    "    elif inp == \"b\":\n",
    "        df[\"gender\"].iloc[i] = \"B\"\n",
    "    elif inp == 'g':\n",
    "        df[\"gender\"].iloc[i] = \"G\"\n",
    "    elif inp == 'G':\n",
    "        df[\"gender\"].iloc[i] = \"G\"\n",
    "        add_girl(name)\n",
    "        girls.append(name)\n",
    "    elif inp in ['q','Q']:\n",
    "        break"
   ]
  },
  {
   "cell_type": "code",
   "execution_count": 172,
   "metadata": {},
   "outputs": [],
   "source": [
    "\n",
    "df = df[df[\"gender\"] != \"G\"]\n",
    "\n",
    "df[[\"name\",\"hometown\",\"state\",\"gender\",\"major\",'insta','post']].to_csv(\"analyzed.csv\")"
   ]
  },
  {
   "cell_type": "code",
   "execution_count": null,
   "metadata": {},
   "outputs": [],
   "source": []
  }
 ]
}
